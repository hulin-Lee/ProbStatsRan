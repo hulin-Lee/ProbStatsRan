{
 "cells": [
  {
   "cell_type": "code",
   "execution_count": 1,
   "id": "daa6b180",
   "metadata": {},
   "outputs": [],
   "source": [
    "import numpy as np\n",
    "import matplotlib.pyplot as plt\n",
    "import time"
   ]
  },
  {
   "cell_type": "code",
   "execution_count": 2,
   "id": "684d4ee5",
   "metadata": {},
   "outputs": [],
   "source": [
    "rng=np.random.default_rng()"
   ]
  },
  {
   "cell_type": "markdown",
   "id": "0b18704c",
   "metadata": {},
   "source": [
    "假阳性: 某种试剂用于癌症的检测，阳性检出率为90%，即 $P(+|Cancer) = 0.9$，误检率为10%，即 $P(+|no Cancer) = 0.1$。假设人群中癌症患者的比例为百分之一，即 $P(Cancer) = 0.01$。求测出阳性的检测正确率，即 $P(Cancer|+)$。\n",
    "    用贝叶斯定理可以很容易得到 $$P(Cancer|+) = \\frac{P(+|Cancer)P(Cancer)}{P(+)} = \\frac{P(+|Cancer)P(Cancer)}{P(+|Cancer)P(Cancer) + P(+|no Cancer)P(no Cancer)} = \\frac{0.9 * 0.01}{0.1 * 0.99 + 0.9 * 0.01}\\approx 0.08$$"
   ]
  },
  {
   "cell_type": "markdown",
   "id": "91ef1c7c",
   "metadata": {},
   "source": [
    "模拟一个随机过程来检验一下这个结果"
   ]
  },
  {
   "cell_type": "code",
   "execution_count": 3,
   "id": "0fcd783e",
   "metadata": {},
   "outputs": [],
   "source": [
    "def cancer_test(flag):  # flag 表示被测者是否患有癌症\n",
    "    ran = rng.random()\n",
    "    if flag and ran < 0.9:\n",
    "        return True\n",
    "    elif not flag and ran < 0.1:\n",
    "        return True\n",
    "    else:\n",
    "        return False"
   ]
  },
  {
   "cell_type": "code",
   "execution_count": 4,
   "id": "e15cbc8b",
   "metadata": {},
   "outputs": [],
   "source": [
    "ran = rng.random(size=10000)\n",
    "people_states = np.array([True if ran[i] < 0.01 else False for i in range(len(ran))])"
   ]
  },
  {
   "cell_type": "code",
   "execution_count": 5,
   "id": "d22ee59a",
   "metadata": {},
   "outputs": [],
   "source": [
    "test_results = []\n",
    "for s in people_states:\n",
    "    test_results.append(cancer_test(s))\n",
    "test_results = np.array(test_results)"
   ]
  },
  {
   "cell_type": "code",
   "execution_count": 6,
   "id": "c8c91d42",
   "metadata": {},
   "outputs": [
    {
     "data": {
      "text/plain": [
       "array([ True, False,  True,  True,  True,  True,  True,  True,  True,\n",
       "        True,  True,  True,  True,  True,  True,  True,  True,  True,\n",
       "        True,  True,  True,  True,  True,  True,  True,  True,  True,\n",
       "        True,  True,  True,  True,  True,  True,  True,  True,  True,\n",
       "        True,  True,  True,  True,  True,  True,  True,  True,  True,\n",
       "        True,  True,  True,  True,  True,  True,  True,  True,  True,\n",
       "        True,  True,  True,  True, False,  True,  True,  True,  True,\n",
       "        True,  True,  True,  True,  True,  True,  True, False, False,\n",
       "        True,  True,  True,  True,  True,  True,  True,  True,  True,\n",
       "        True,  True,  True,  True,  True,  True,  True,  True,  True,\n",
       "        True,  True,  True,  True,  True, False,  True])"
      ]
     },
     "execution_count": 6,
     "metadata": {},
     "output_type": "execute_result"
    }
   ],
   "source": [
    "cancer_result =  test_results[people_states]  # 患癌的人的检测结果\n",
    "cancer_result"
   ]
  },
  {
   "cell_type": "code",
   "execution_count": 7,
   "id": "eea78bcb",
   "metadata": {},
   "outputs": [
    {
     "name": "stdout",
     "output_type": "stream",
     "text": [
      "0.08598130841121496\n"
     ]
    }
   ],
   "source": [
    "# 测出阳性的检测正确率,正确率很低，说明假阳性的概率很高\n",
    "p_true_positive = len(cancer_result[cancer_result]) / len(test_results[test_results])\n",
    "print(p_true_positive)"
   ]
  },
  {
   "cell_type": "code",
   "execution_count": 8,
   "id": "0c5512f6",
   "metadata": {},
   "outputs": [],
   "source": [
    "# 对第一个检测出阳性的人在进行一次检测\n",
    "people_first_true_states = people_states[test_results]\n",
    "second_test_results = []\n",
    "for s in people_first_true_states:\n",
    "    second_test_results.append(cancer_test(s))\n",
    "second_test_results = np.array(second_test_results)"
   ]
  },
  {
   "cell_type": "code",
   "execution_count": 9,
   "id": "675661af",
   "metadata": {},
   "outputs": [
    {
     "data": {
      "text/plain": [
       "array([ True,  True,  True,  True,  True,  True, False,  True,  True,\n",
       "        True, False,  True,  True, False,  True,  True, False,  True,\n",
       "        True,  True,  True,  True,  True,  True,  True,  True,  True,\n",
       "       False, False,  True,  True,  True,  True,  True, False,  True,\n",
       "        True,  True,  True, False,  True,  True,  True,  True,  True,\n",
       "        True,  True,  True,  True,  True,  True,  True,  True,  True,\n",
       "        True,  True,  True,  True,  True,  True, False,  True,  True,\n",
       "        True,  True,  True,  True,  True, False,  True,  True,  True,\n",
       "        True,  True, False,  True,  True,  True,  True,  True,  True,\n",
       "        True,  True,  True,  True,  True,  True,  True,  True,  True,\n",
       "        True,  True])"
      ]
     },
     "execution_count": 9,
     "metadata": {},
     "output_type": "execute_result"
    }
   ],
   "source": [
    "cancer_result =  second_test_results[people_first_true_states]  # 患癌的人的第二次的检测结果\n",
    "cancer_result"
   ]
  },
  {
   "cell_type": "code",
   "execution_count": 10,
   "id": "afab008e",
   "metadata": {},
   "outputs": [
    {
     "name": "stdout",
     "output_type": "stream",
     "text": [
      "0.4153846153846154\n"
     ]
    }
   ],
   "source": [
    "# 两次测出阳性的检测正确率,相比于只做一次检测，正确率提升很多\n",
    "p_true_positive = len(cancer_result[cancer_result]) / len(second_test_results[second_test_results])\n",
    "print(p_true_positive)"
   ]
  },
  {
   "cell_type": "code",
   "execution_count": null,
   "id": "29f33db6",
   "metadata": {},
   "outputs": [],
   "source": []
  },
  {
   "cell_type": "markdown",
   "id": "9a570cf2",
   "metadata": {},
   "source": [
    "《应用随机过程：概率论模型导论》Sheldon M.Ross著 例2.53"
   ]
  },
  {
   "cell_type": "code",
   "execution_count": 11,
   "id": "ad0464f6",
   "metadata": {},
   "outputs": [],
   "source": [
    "def move(current_state, n):\n",
    "    u = rng.random()\n",
    "    if u > 0.5:\n",
    "        current_state = current_state + 1\n",
    "    else:\n",
    "        current_state = current_state - 1\n",
    "    if current_state == -1:\n",
    "        return n-1\n",
    "    elif current_state == n:\n",
    "        return 0\n",
    "    else:\n",
    "        return current_state"
   ]
  },
  {
   "cell_type": "code",
   "execution_count": 12,
   "id": "e4caf6a1",
   "metadata": {},
   "outputs": [
    {
     "name": "stdout",
     "output_type": "stream",
     "text": [
      "4\n",
      "0\n",
      "1\n",
      "2\n",
      "1\n",
      "0\n",
      "1\n",
      "2\n",
      "3\n",
      "3\n"
     ]
    }
   ],
   "source": [
    "state = 0\n",
    "last_state = -1  # 直到访问完所有状态，记录最后一个访问的状态\n",
    "visited_states = [0]\n",
    "num_states = 5\n",
    "for i in range(20):\n",
    "    state = move(state, num_states)\n",
    "    print(state)\n",
    "    if not (state in visited_states):\n",
    "        visited_states.append(state)\n",
    "    else:\n",
    "        pass\n",
    "    if len(visited_states) == num_states:\n",
    "        last_state  = state\n",
    "        print(last_state)\n",
    "        break\n",
    "    else:\n",
    "        pass\n",
    "    "
   ]
  },
  {
   "cell_type": "code",
   "execution_count": 13,
   "id": "c6166650",
   "metadata": {},
   "outputs": [],
   "source": [
    "last_states=[]\n",
    "for i in range(10000):\n",
    "    state = 0\n",
    "    visited_states = [0]\n",
    "    for j in range(20):\n",
    "        state = move(state, num_states)\n",
    "        if not (state in visited_states):\n",
    "            visited_states.append(state)\n",
    "        else:\n",
    "            pass\n",
    "        if len(visited_states) == num_states:\n",
    "            last_states.append(state)\n",
    "            break\n",
    "        else:\n",
    "            pass"
   ]
  },
  {
   "cell_type": "code",
   "execution_count": 14,
   "id": "8f7a0e0e",
   "metadata": {},
   "outputs": [
    {
     "data": {
      "image/png": "[encoded data removed]",
      "text/plain": [
       "<Figure size 432x288 with 1 Axes>"
      ]
     },
     "metadata": {
      "needs_background": "light"
     },
     "output_type": "display_data"
    }
   ],
   "source": [
    "# 出来初始状态，每一个状态都等可能是最后一个状态\n",
    "plt.hist(last_states)\n",
    "plt.show()"
   ]
  },
  {
   "cell_type": "code",
   "execution_count": null,
   "id": "40d104f0",
   "metadata": {},
   "outputs": [],
   "source": []
  },
  {
   "cell_type": "markdown",
   "id": "cf4c1951",
   "metadata": {},
   "source": [
    "《应用随机过程：概率论模型导论》Sheldon M.Ross著 11.5节介绍了一个对于n个（0，1）均匀随机变量的排序，理论上运行时间与n成正比（比最好的通用排序算法的nln(n)更好）。但是在这个测试的例子中并不是这样，所以Ross的这个方案是否真的更优目前对于我存疑。"
   ]
  },
  {
   "cell_type": "code",
   "execution_count": 15,
   "id": "e0bb9f14",
   "metadata": {},
   "outputs": [],
   "source": [
    "n = 10000\n",
    "random_variables = []\n",
    "lists = [[] for i in range(n)]\n",
    "for i in range(n):\n",
    "    u = rng.random()\n",
    "    random_variables.append(u)\n",
    "    index = np.floor(u * n).astype(int)\n",
    "    lists[index].append(u)"
   ]
  },
  {
   "cell_type": "code",
   "execution_count": 16,
   "id": "71abdcb9",
   "metadata": {},
   "outputs": [
    {
     "name": "stdout",
     "output_type": "stream",
     "text": [
      "0.0010089874267578125\n"
     ]
    }
   ],
   "source": [
    "start_time = time.time()\n",
    "sorted_random_variables = sorted(random_variables)\n",
    "end_time = time.time()\n",
    "print(end_time - start_time)"
   ]
  },
  {
   "cell_type": "code",
   "execution_count": 17,
   "id": "181a7332",
   "metadata": {},
   "outputs": [
    {
     "name": "stdout",
     "output_type": "stream",
     "text": [
      "0.10610604286193848\n"
     ]
    }
   ],
   "source": [
    "start_time = time.time()\n",
    "combined = sum(lists, [])\n",
    "end_time = time.time()\n",
    "print(end_time - start_time)"
   ]
  },
  {
   "cell_type": "code",
   "execution_count": 18,
   "id": "bf5012f6",
   "metadata": {},
   "outputs": [
    {
     "name": "stdout",
     "output_type": "stream",
     "text": [
      "0.10250735282897949\n"
     ]
    }
   ],
   "source": [
    "start_time = time.time()\n",
    "combine_sorted = sum([sorted(sublist) for sublist in lists], [])\n",
    "end_time = time.time()\n",
    "print(end_time - start_time)"
   ]
  },
  {
   "cell_type": "code",
   "execution_count": null,
   "id": "01f89236",
   "metadata": {},
   "outputs": [],
   "source": []
  }
 ],
 "metadata": {
  "kernelspec": {
   "display_name": "Python 3",
   "language": "python",
   "name": "python3"
  },
  "language_info": {
   "codemirror_mode": {
    "name": "ipython",
    "version": 3
   },
   "file_extension": ".py",
   "mimetype": "text/x-python",
   "name": "python",
   "nbconvert_exporter": "python",
   "pygments_lexer": "ipython3",
   "version": "3.8.8"
  }
 },
 "nbformat": 4,
 "nbformat_minor": 5
}
