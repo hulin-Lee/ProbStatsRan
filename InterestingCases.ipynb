{
 "cells": [
  {
   "cell_type": "code",
   "execution_count": 1,
   "id": "daa6b180",
   "metadata": {},
   "outputs": [],
   "source": [
    "import numpy as np\n",
    "import matplotlib.pyplot as plt\n",
    "import time"
   ]
  },
  {
   "cell_type": "code",
   "execution_count": 2,
   "id": "684d4ee5",
   "metadata": {},
   "outputs": [],
   "source": [
    "rng=np.random.default_rng()"
   ]
  },
  {
   "cell_type": "markdown",
   "id": "0b18704c",
   "metadata": {},
   "source": [
    "假阳性: 某种试剂用于癌症的检测，阳性检出率为90%，即 $P(+|Cancer) = 0.9$，误检率为10%，即 $P(+|no Cancer) = 0.1$。假设人群中癌症患者的比例为百分之一，即 $P(Cancer) = 0.01$。求测出阳性的检测正确率，即 $P(Cancer|+)$。\n",
    "    用贝叶斯定理可以很容易得到 $$P(Cancer|+) = \\frac{P(+|Cancer)P(Cancer)}{P(+)} = \\frac{P(+|Cancer)P(Cancer)}{P(+|Cancer)P(Cancer) + P(+|no Cancer)P(no Cancer)} = \\frac{0.9 * 0.01}{0.1 * 0.99 + 0.9 * 0.01}\\approx 0.08$$"
   ]
  },
  {
   "cell_type": "markdown",
   "id": "91ef1c7c",
   "metadata": {},
   "source": [
    "模拟一个随机过程来检验一下这个结果"
   ]
  },
  {
   "cell_type": "code",
   "execution_count": 3,
   "id": "0fcd783e",
   "metadata": {},
   "outputs": [],
   "source": [
    "def cancer_test(flag):  # flag 表示被测者是否患有癌症\n",
    "    ran = rng.random()\n",
    "    if flag and ran < 0.9:\n",
    "        return True\n",
    "    elif not flag and ran < 0.1:\n",
    "        return True\n",
    "    else:\n",
    "        return False"
   ]
  },
  {
   "cell_type": "code",
   "execution_count": 4,
   "id": "e15cbc8b",
   "metadata": {},
   "outputs": [],
   "source": [
    "ran = rng.random(size=10000)\n",
    "people_states = np.array([True if ran[i] < 0.01 else False for i in range(len(ran))])"
   ]
  },
  {
   "cell_type": "code",
   "execution_count": 5,
   "id": "d22ee59a",
   "metadata": {},
   "outputs": [],
   "source": [
    "test_results = []\n",
    "for s in people_states:\n",
    "    test_results.append(cancer_test(s))\n",
    "test_results = np.array(test_results)"
   ]
  },
  {
   "cell_type": "code",
   "execution_count": 6,
   "id": "c8c91d42",
   "metadata": {},
   "outputs": [
    {
     "data": {
      "text/plain": [
       "array([ True, False,  True,  True,  True,  True,  True,  True,  True,\n",
       "        True,  True,  True,  True,  True,  True,  True,  True,  True,\n",
       "        True,  True,  True,  True,  True,  True,  True,  True,  True,\n",
       "        True,  True,  True,  True,  True,  True,  True,  True,  True,\n",
       "        True,  True,  True,  True,  True,  True,  True,  True,  True,\n",
       "        True,  True,  True,  True,  True,  True,  True,  True,  True,\n",
       "        True,  True,  True,  True, False,  True,  True,  True,  True,\n",
       "        True,  True,  True,  True,  True,  True,  True, False, False,\n",
       "        True,  True,  True,  True,  True,  True,  True,  True,  True,\n",
       "        True,  True,  True,  True,  True,  True,  True,  True,  True,\n",
       "        True,  True,  True,  True,  True, False,  True])"
      ]
     },
     "execution_count": 6,
     "metadata": {},
     "output_type": "execute_result"
    }
   ],
   "source": [
    "cancer_result =  test_results[people_states]  # 患癌的人的检测结果\n",
    "cancer_result"
   ]
  },
  {
   "cell_type": "code",
   "execution_count": 7,
   "id": "eea78bcb",
   "metadata": {},
   "outputs": [
    {
     "name": "stdout",
     "output_type": "stream",
     "text": [
      "0.08598130841121496\n"
     ]
    }
   ],
   "source": [
    "# 测出阳性的检测正确率,正确率很低，说明假阳性的概率很高\n",
    "p_true_positive = len(cancer_result[cancer_result]) / len(test_results[test_results])\n",
    "print(p_true_positive)"
   ]
  },
  {
   "cell_type": "code",
   "execution_count": 8,
   "id": "0c5512f6",
   "metadata": {},
   "outputs": [],
   "source": [
    "# 对第一个检测出阳性的人在进行一次检测\n",
    "people_first_true_states = people_states[test_results]\n",
    "second_test_results = []\n",
    "for s in people_first_true_states:\n",
    "    second_test_results.append(cancer_test(s))\n",
    "second_test_results = np.array(second_test_results)"
   ]
  },
  {
   "cell_type": "code",
   "execution_count": 9,
   "id": "675661af",
   "metadata": {},
   "outputs": [
    {
     "data": {
      "text/plain": [
       "array([ True,  True,  True,  True,  True,  True, False,  True,  True,\n",
       "        True, False,  True,  True, False,  True,  True, False,  True,\n",
       "        True,  True,  True,  True,  True,  True,  True,  True,  True,\n",
       "       False, False,  True,  True,  True,  True,  True, False,  True,\n",
       "        True,  True,  True, False,  True,  True,  True,  True,  True,\n",
       "        True,  True,  True,  True,  True,  True,  True,  True,  True,\n",
       "        True,  True,  True,  True,  True,  True, False,  True,  True,\n",
       "        True,  True,  True,  True,  True, False,  True,  True,  True,\n",
       "        True,  True, False,  True,  True,  True,  True,  True,  True,\n",
       "        True,  True,  True,  True,  True,  True,  True,  True,  True,\n",
       "        True,  True])"
      ]
     },
     "execution_count": 9,
     "metadata": {},
     "output_type": "execute_result"
    }
   ],
   "source": [
    "cancer_result =  second_test_results[people_first_true_states]  # 患癌的人的第二次的检测结果\n",
    "cancer_result"
   ]
  },
  {
   "cell_type": "code",
   "execution_count": 10,
   "id": "afab008e",
   "metadata": {},
   "outputs": [
    {
     "name": "stdout",
     "output_type": "stream",
     "text": [
      "0.4153846153846154\n"
     ]
    }
   ],
   "source": [
    "# 两次测出阳性的检测正确率,相比于只做一次检测，正确率提升很多\n",
    "p_true_positive = len(cancer_result[cancer_result]) / len(second_test_results[second_test_results])\n",
    "print(p_true_positive)"
   ]
  },
  {
   "cell_type": "code",
   "execution_count": null,
   "id": "29f33db6",
   "metadata": {},
   "outputs": [],
   "source": []
  },
  {
   "cell_type": "markdown",
   "id": "9a570cf2",
   "metadata": {},
   "source": [
    "《应用随机过程：概率论模型导论》Sheldon M.Ross著 例2.53"
   ]
  },
  {
   "cell_type": "code",
   "execution_count": 11,
   "id": "ad0464f6",
   "metadata": {},
   "outputs": [],
   "source": [
    "def move(current_state, n):\n",
    "    u = rng.random()\n",
    "    if u > 0.5:\n",
    "        current_state = current_state + 1\n",
    "    else:\n",
    "        current_state = current_state - 1\n",
    "    if current_state == -1:\n",
    "        return n-1\n",
    "    elif current_state == n:\n",
    "        return 0\n",
    "    else:\n",
    "        return current_state"
   ]
  },
  {
   "cell_type": "code",
   "execution_count": 12,
   "id": "e4caf6a1",
   "metadata": {},
   "outputs": [
    {
     "name": "stdout",
     "output_type": "stream",
     "text": [
      "4\n",
      "0\n",
      "1\n",
      "2\n",
      "1\n",
      "0\n",
      "1\n",
      "2\n",
      "3\n",
      "3\n"
     ]
    }
   ],
   "source": [
    "state = 0\n",
    "last_state = -1  # 直到访问完所有状态，记录最后一个访问的状态\n",
    "visited_states = [0]\n",
    "num_states = 5\n",
    "for i in range(20):\n",
    "    state = move(state, num_states)\n",
    "    print(state)\n",
    "    if not (state in visited_states):\n",
    "        visited_states.append(state)\n",
    "    else:\n",
    "        pass\n",
    "    if len(visited_states) == num_states:\n",
    "        last_state  = state\n",
    "        print(last_state)\n",
    "        break\n",
    "    else:\n",
    "        pass\n",
    "    "
   ]
  },
  {
   "cell_type": "code",
   "execution_count": 13,
   "id": "c6166650",
   "metadata": {},
   "outputs": [],
   "source": [
    "last_states=[]\n",
    "for i in range(10000):\n",
    "    state = 0\n",
    "    visited_states = [0]\n",
    "    for j in range(20):\n",
    "        state = move(state, num_states)\n",
    "        if not (state in visited_states):\n",
    "            visited_states.append(state)\n",
    "        else:\n",
    "            pass\n",
    "        if len(visited_states) == num_states:\n",
    "            last_states.append(state)\n",
    "            break\n",
    "        else:\n",
    "            pass"
   ]
  },
  {
   "cell_type": "code",
   "execution_count": 14,
   "id": "8f7a0e0e",
   "metadata": {},
   "outputs": [
    {
     "data": {
      "image/png": "[encoded data removed]",
      "text/plain": [
       "<Figure size 432x288 with 1 Axes>"
      ]
     },
     "metadata": {
      "needs_background": "light"
     },
     "output_type": "display_data"
    }
   ],
   "source": [
    "# 出来初始状态，每一个状态都等可能是最后一个状态\n",
    "plt.hist(last_states)\n",
    "plt.show()"
   ]
  },
  {
   "cell_type": "code",
   "execution_count": null,
   "id": "40d104f0",
   "metadata": {},
   "outputs": [],
   "source": []
  },
  {
   "cell_type": "markdown",
   "id": "cf4c1951",
   "metadata": {},
   "source": [
    "《应用随机过程：概率论模型导论》Sheldon M.Ross著 11.5节介绍了一个对于n个（0，1）均匀随机变量的排序，理论上运行时间与n成正比（比最好的通用排序算法的nln(n)更好），但是在这个简单的测试中并不是这样。也许在某种情况下Ross介绍算法的确更优，目前未知。"
   ]
  },
  {
   "cell_type": "code",
   "execution_count": 15,
   "id": "e0bb9f14",
   "metadata": {},
   "outputs": [],
   "source": [
    "n = 10000\n",
    "random_variables = []\n",
    "lists = [[] for i in range(n)]\n",
    "for i in range(n):\n",
    "    u = rng.random()\n",
    "    random_variables.append(u)\n",
    "    index = np.floor(u * n).astype(int)\n",
    "    lists[index].append(u)"
   ]
  },
  {
   "cell_type": "code",
   "execution_count": 16,
   "id": "71abdcb9",
   "metadata": {},
   "outputs": [
    {
     "name": "stdout",
     "output_type": "stream",
     "text": [
      "0.0010089874267578125\n"
     ]
    }
   ],
   "source": [
    "start_time = time.time()\n",
    "sorted_random_variables = sorted(random_variables)\n",
    "end_time = time.time()\n",
    "print(end_time - start_time)"
   ]
  },
  {
   "cell_type": "code",
   "execution_count": 17,
   "id": "181a7332",
   "metadata": {},
   "outputs": [
    {
     "name": "stdout",
     "output_type": "stream",
     "text": [
      "0.10610604286193848\n"
     ]
    }
   ],
   "source": [
    "start_time = time.time()\n",
    "combined = sum(lists, [])\n",
    "end_time = time.time()\n",
    "print(end_time - start_time)"
   ]
  },
  {
   "cell_type": "code",
   "execution_count": 18,
   "id": "bf5012f6",
   "metadata": {},
   "outputs": [
    {
     "name": "stdout",
     "output_type": "stream",
     "text": [
      "0.10250735282897949\n"
     ]
    }
   ],
   "source": [
    "start_time = time.time()\n",
    "combine_sorted = sum([sorted(sublist) for sublist in lists], [])\n",
    "end_time = time.time()\n",
    "print(end_time - start_time)"
   ]
  },
  {
   "cell_type": "markdown",
   "id": "0db5c230",
   "metadata": {},
   "source": [
    "在羽毛球比赛中，每一个球的胜率和最终的胜率的关系？按照三局两胜或者一局定胜负。每局21分，如果在一局比赛中双方比分打成20平，那么将进入加分阶段，直到一方领先对手至少2分为止，这时领先的一方赢得该局。如果比分达到29平，那么首先得到30分的一方将成为该局的胜者。如果每个球的胜率是0.6，那么取得最终的胜率应该比这个概率大。"
   ]
  },
  {
   "cell_type": "code",
   "execution_count": 9,
   "id": "7af72871",
   "metadata": {},
   "outputs": [],
   "source": [
    "def badminton_simulation(p, n=100):\n",
    "    # 两个选手记为a和b, p是a每个球的赢的概率.a赢的话返回1, b赢的话返回0.n个球应该决出胜负\n",
    "    a_scores = 0  \n",
    "    b_scores = 0\n",
    "    for i in range(n):  \n",
    "        ran = rng.random()\n",
    "        if ran < p:\n",
    "            a_scores += 1\n",
    "        else:\n",
    "            b_scores += 1\n",
    "        if (a_scores == 21 and b_scores <= 19) or a_scores == 30:\n",
    "            return 1, a_scores, b_scores\n",
    "        elif b_scores == 21 and a_scores <= 19 or b_scores == 30:\n",
    "            return 0, a_scores, b_scores\n",
    "        elif a_scores - b_scores == 2 and a_scores >= 20 and b_scores >= 20:\n",
    "            return 1, a_scores, b_scores\n",
    "        elif b_scores - a_scores == 2 and a_scores >= 20 and b_scores >= 20:\n",
    "            return 0, a_scores, b_scores\n",
    "        else:\n",
    "            pass\n",
    "        if i == n-1:\n",
    "            raise('The match is not end in n balls, set a larger n value!')"
   ]
  },
  {
   "cell_type": "code",
   "execution_count": 104,
   "id": "1826463b",
   "metadata": {},
   "outputs": [],
   "source": [
    "states = []\n",
    "a_scores = []\n",
    "b_scores = []\n",
    "for i in range(10000):\n",
    "    state, a_score, b_score = badminton_simulation(0.6)\n",
    "    states.append(state)\n",
    "    a_scores.append(a_score)\n",
    "    b_scores.append(b_score)"
   ]
  },
  {
   "cell_type": "code",
   "execution_count": 105,
   "id": "c9a89dad",
   "metadata": {},
   "outputs": [],
   "source": [
    "states =np.array(states)\n",
    "a_scores = np.array(a_scores)\n",
    "b_scores = np.array(b_scores)"
   ]
  },
  {
   "cell_type": "code",
   "execution_count": 106,
   "id": "a29b84e2",
   "metadata": {},
   "outputs": [
    {
     "data": {
      "image/png": "[encoded data removed]",
      "text/plain": [
       "<Figure size 432x288 with 1 Axes>"
      ]
     },
     "metadata": {
      "needs_background": "light"
     },
     "output_type": "display_data"
    }
   ],
   "source": [
    "plt.hist(states)\n",
    "plt.show()"
   ]
  },
  {
   "cell_type": "code",
   "execution_count": 107,
   "id": "5ffa1d08",
   "metadata": {},
   "outputs": [
    {
     "data": {
      "text/plain": [
       "0.9084"
      ]
     },
     "execution_count": 107,
     "metadata": {},
     "output_type": "execute_result"
    }
   ],
   "source": [
    "len(states[states > 0]) / len(states)"
   ]
  },
  {
   "cell_type": "code",
   "execution_count": 99,
   "id": "fcf2fcea",
   "metadata": {},
   "outputs": [],
   "source": [
    "p_each = np.arange(0, 1.02, 0.02)\n",
    "finalwin_prob = []\n",
    "for i in range(len(p_each)):\n",
    "    states = []\n",
    "    for j in range(10000):\n",
    "        state, _, _ = badminton_simulation(p_each[i])\n",
    "        states.append(state)\n",
    "    states =np.array(states)\n",
    "    finalwin_prob.append(len(states[states > 0]) / len(states))"
   ]
  },
  {
   "cell_type": "code",
   "execution_count": 100,
   "id": "8facbcfc",
   "metadata": {},
   "outputs": [
    {
     "data": {
      "image/png": "[encoded data removed]",
      "text/plain": [
       "<Figure size 432x288 with 1 Axes>"
      ]
     },
     "metadata": {
      "needs_background": "light"
     },
     "output_type": "display_data"
    }
   ],
   "source": [
    "plt.plot(p_each, finalwin_prob)\n",
    "plt.grid()\n",
    "plt.xticks(np.arange(0,1.1,0.1))\n",
    "plt.yticks(np.arange(0,1.1,0.1))\n",
    "plt.xlabel(\"Probability of each ball winning\")\n",
    "plt.ylabel(\"Probability of winning the match\")\n",
    "plt.title(\"Single-game win, 21-point system\")\n",
    "plt.show()"
   ]
  },
  {
   "cell_type": "markdown",
   "id": "3c8c4f7a",
   "metadata": {},
   "source": [
    "在一局定胜负的情况下, 每个球胜率从0.4变化到0.6，但是最终的胜率从0.1变化到了0.9。"
   ]
  },
  {
   "cell_type": "code",
   "execution_count": 101,
   "id": "86ddb580",
   "metadata": {},
   "outputs": [],
   "source": [
    "p_each = np.arange(0, 1.02, 0.02)\n",
    "finalwin_prob = []\n",
    "for i in range(len(p_each)):\n",
    "    states = []\n",
    "    for j in range(10000):\n",
    "        state1, _, _ = badminton_simulation(p_each[i])\n",
    "        state2, _, _ = badminton_simulation(p_each[i])\n",
    "        state3, _, _ = badminton_simulation(p_each[i])\n",
    "        states.append(state1 + state2 + state3 > 1.5)\n",
    "    states =np.array(states)\n",
    "    finalwin_prob.append(len(states[states > 0]) / len(states))"
   ]
  },
  {
   "cell_type": "code",
   "execution_count": 102,
   "id": "b9c105cd",
   "metadata": {},
   "outputs": [
    {
     "data": {
      "image/png": "[encoded data removed]",
      "text/plain": [
       "<Figure size 432x288 with 1 Axes>"
      ]
     },
     "metadata": {
      "needs_background": "light"
     },
     "output_type": "display_data"
    }
   ],
   "source": [
    "plt.plot(p_each, finalwin_prob)\n",
    "plt.grid()\n",
    "plt.xticks(np.arange(0,1.1,0.1))\n",
    "plt.yticks(np.arange(0,1.1,0.1))\n",
    "plt.xlabel(\"Probability of each ball winning\")\n",
    "plt.ylabel(\"Probability of winning the match\")\n",
    "plt.title('Best of three games, 21 points per game')\n",
    "plt.show()"
   ]
  },
  {
   "cell_type": "markdown",
   "id": "ee8f0332",
   "metadata": {},
   "source": [
    "在三局两胜的情况下, 微小优势积累产生巨大优势的效应更加显著。这个图像有点类似于物理相变，即当某个系统参数突破临界值后系统状态发生突变。"
   ]
  },
  {
   "cell_type": "code",
   "execution_count": null,
   "id": "515e17f9",
   "metadata": {},
   "outputs": [],
   "source": []
  }
 ],
 "metadata": {
  "kernelspec": {
   "display_name": "Python 3",
   "language": "python",
   "name": "python3"
  },
  "language_info": {
   "codemirror_mode": {
    "name": "ipython",
    "version": 3
   },
   "file_extension": ".py",
   "mimetype": "text/x-python",
   "name": "python",
   "nbconvert_exporter": "python",
   "pygments_lexer": "ipython3",
   "version": "3.8.8"
  }
 },
 "nbformat": 4,
 "nbformat_minor": 5
}
